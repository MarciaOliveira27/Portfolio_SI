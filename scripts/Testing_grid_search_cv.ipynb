{
 "cells": [
  {
   "cell_type": "markdown",
   "metadata": {},
   "source": [
    "#### Exercise: Testing grid_search_cv"
   ]
  },
  {
   "cell_type": "markdown",
   "metadata": {},
   "source": [
    "1. Use the breast-bin.csv dataset."
   ]
  },
  {
   "cell_type": "code",
   "execution_count": 25,
   "metadata": {},
   "outputs": [],
   "source": [
    "from si.io.csv_file import read_csv"
   ]
  },
  {
   "cell_type": "code",
   "execution_count": 26,
   "metadata": {},
   "outputs": [],
   "source": [
    "filename = '/Users/marciaoliveira/Desktop/MSc Bioinformatics/2º ANO/SIB/PRÁTICA/Portfolio_SI/datasets/breast_bin/breast-bin.csv'\n",
    "df = read_csv(filename, sep = ',', features = True, label = True)"
   ]
  },
  {
   "cell_type": "markdown",
   "metadata": {},
   "source": [
    "2. Create a LogisticRegression model."
   ]
  },
  {
   "cell_type": "code",
   "execution_count": 27,
   "metadata": {},
   "outputs": [],
   "source": [
    "from si.models.logistic_regression import LogisticRegression"
   ]
  },
  {
   "cell_type": "code",
   "execution_count": 28,
   "metadata": {},
   "outputs": [],
   "source": [
    "lr_model = LogisticRegression()"
   ]
  },
  {
   "cell_type": "markdown",
   "metadata": {},
   "source": [
    "3. Perform grid search. / 4. Use 3 folds for the cross validation. / 5. Which scores do you obtain? What are the best score and best hyperparameters?"
   ]
  },
  {
   "cell_type": "code",
   "execution_count": 29,
   "metadata": {},
   "outputs": [],
   "source": [
    "from si.model_selection.grid_search import grid_search_cv"
   ]
  },
  {
   "cell_type": "code",
   "execution_count": 30,
   "metadata": {},
   "outputs": [],
   "source": [
    "parameter_grid_ = {\n",
    "        'l2_penalty': (1, 10),\n",
    "        'alpha': (0.001, 0.0001),\n",
    "        'max_iter': (1000, 2000)\n",
    "    }"
   ]
  },
  {
   "cell_type": "code",
   "execution_count": 31,
   "metadata": {},
   "outputs": [
    {
     "data": {
      "text/plain": [
       "{'scores': [0.9669540229885056,\n",
       "  0.9683908045977012,\n",
       "  0.9669540229885057,\n",
       "  0.9669540229885057,\n",
       "  0.9669540229885057,\n",
       "  0.9669540229885057,\n",
       "  0.964080459770115,\n",
       "  0.9669540229885057],\n",
       " 'hyperparameters': [{'l2_penalty': 1, 'alpha': 0.001, 'max_iter': 1000},\n",
       "  {'l2_penalty': 1, 'alpha': 0.001, 'max_iter': 2000},\n",
       "  {'l2_penalty': 1, 'alpha': 0.0001, 'max_iter': 1000},\n",
       "  {'l2_penalty': 1, 'alpha': 0.0001, 'max_iter': 2000},\n",
       "  {'l2_penalty': 10, 'alpha': 0.001, 'max_iter': 1000},\n",
       "  {'l2_penalty': 10, 'alpha': 0.001, 'max_iter': 2000},\n",
       "  {'l2_penalty': 10, 'alpha': 0.0001, 'max_iter': 1000},\n",
       "  {'l2_penalty': 10, 'alpha': 0.0001, 'max_iter': 2000}],\n",
       " 'best_hyperparameters': {'l2_penalty': 1, 'alpha': 0.001, 'max_iter': 2000},\n",
       " 'best_score': 0.9683908045977012}"
      ]
     },
     "execution_count": 31,
     "metadata": {},
     "output_type": "execute_result"
    }
   ],
   "source": [
    "results = grid_search_cv(lr_model,\n",
    "                              df,\n",
    "                              hyperparameter_grid=parameter_grid_,\n",
    "                              cv=3)\n",
    "results"
   ]
  },
  {
   "cell_type": "code",
   "execution_count": 32,
   "metadata": {},
   "outputs": [
    {
     "name": "stdout",
     "output_type": "stream",
     "text": [
      "Scores: [0.9669540229885056, 0.9683908045977012, 0.9669540229885057, 0.9669540229885057, 0.9669540229885057, 0.9669540229885057, 0.964080459770115, 0.9669540229885057]\n"
     ]
    }
   ],
   "source": [
    "scores = results['scores']\n",
    "print(f\"Scores: {scores}\")"
   ]
  },
  {
   "cell_type": "code",
   "execution_count": 33,
   "metadata": {},
   "outputs": [
    {
     "name": "stdout",
     "output_type": "stream",
     "text": [
      "Best score: 0.9683908045977012\n"
     ]
    }
   ],
   "source": [
    "best_score = results['best_score']\n",
    "print(f\"Best score: {best_score}\")"
   ]
  },
  {
   "cell_type": "code",
   "execution_count": 34,
   "metadata": {},
   "outputs": [
    {
     "name": "stdout",
     "output_type": "stream",
     "text": [
      "Best hyperparameters: {'l2_penalty': 1, 'alpha': 0.001, 'max_iter': 2000}\n"
     ]
    }
   ],
   "source": [
    "best_hyperparameters = results['best_hyperparameters']\n",
    "print(f\"Best hyperparameters: {best_hyperparameters}\")"
   ]
  }
 ],
 "metadata": {
  "kernelspec": {
   "display_name": "base",
   "language": "python",
   "name": "python3"
  },
  "language_info": {
   "codemirror_mode": {
    "name": "ipython",
    "version": 3
   },
   "file_extension": ".py",
   "mimetype": "text/x-python",
   "name": "python",
   "nbconvert_exporter": "python",
   "pygments_lexer": "ipython3",
   "version": "3.9.12"
  }
 },
 "nbformat": 4,
 "nbformat_minor": 2
}
