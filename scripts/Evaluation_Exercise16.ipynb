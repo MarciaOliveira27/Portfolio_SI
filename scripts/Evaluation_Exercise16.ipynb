{
 "cells": [
  {
   "cell_type": "markdown",
   "metadata": {},
   "source": [
    "#### Exercise 16: Build, train and evaluate a neural network"
   ]
  },
  {
   "cell_type": "code",
   "execution_count": 111,
   "metadata": {},
   "outputs": [],
   "source": [
    "import numpy as np\n",
    "from si.data.dataset import Dataset\n",
    "from si.model_selection.split import train_test_split"
   ]
  },
  {
   "cell_type": "code",
   "execution_count": 112,
   "metadata": {},
   "outputs": [
    {
     "data": {
      "text/plain": [
       "(100, 32)"
      ]
     },
     "execution_count": 112,
     "metadata": {},
     "output_type": "execute_result"
    }
   ],
   "source": [
    "x = np.random.randn(100, 32)  \n",
    "y = np.random.randint(0, 2, size=(100, 1)) \n",
    "\n",
    "dataset = Dataset(x, y)\n",
    "\n",
    "dataset.shape()"
   ]
  },
  {
   "cell_type": "code",
   "execution_count": 113,
   "metadata": {},
   "outputs": [],
   "source": [
    "train_dataset, test_dataset = train_test_split(dataset, test_size=0.2, random_state=42)"
   ]
  },
  {
   "cell_type": "code",
   "execution_count": 114,
   "metadata": {},
   "outputs": [],
   "source": [
    "from si.neural_networks.layers import DenseLayer\n",
    "from si.neural_networks.activation import ReLUActivation, SigmoidActivation\n",
    "from si.neural_networks.losses import BinaryCrossEntropy\n",
    "from si.metrics.accuracy import accuracy\n",
    "from si.neural_networks.optimizers import SGD\n",
    "from si.neural_networks.neural_network import NeuralNetwork"
   ]
  },
  {
   "cell_type": "code",
   "execution_count": 115,
   "metadata": {},
   "outputs": [
    {
     "data": {
      "text/plain": [
       "<si.neural_networks.neural_network.NeuralNetwork at 0x7f7df1cfe3d0>"
      ]
     },
     "execution_count": 115,
     "metadata": {},
     "output_type": "execute_result"
    }
   ],
   "source": [
    "n_net = NeuralNetwork(epochs=100, batch_size=16, optimizer=SGD, learning_rate=0.01, verbose=True, \n",
    "                    loss=BinaryCrossEntropy, metric=accuracy)\n",
    "n_features = dataset.X.shape[1]\n",
    "n_net.add(DenseLayer(32, (n_features,)))\n",
    "n_net.add(ReLUActivation())\n",
    "n_net.add(DenseLayer(16))\n",
    "n_net.add(ReLUActivation())\n",
    "n_net.add(DenseLayer(1))\n",
    "n_net.add(SigmoidActivation())"
   ]
  },
  {
   "cell_type": "code",
   "execution_count": 116,
   "metadata": {},
   "outputs": [
    {
     "name": "stdout",
     "output_type": "stream",
     "text": [
      "Epoch 1/100 - loss: 60.0043 - accuracy: 0.5625\n",
      "Epoch 2/100 - loss: 50.5684 - accuracy: 0.6500\n",
      "Epoch 3/100 - loss: 47.2438 - accuracy: 0.6750\n",
      "Epoch 4/100 - loss: 40.4169 - accuracy: 0.7750\n",
      "Epoch 5/100 - loss: 34.8891 - accuracy: 0.8125\n",
      "Epoch 6/100 - loss: 30.4218 - accuracy: 0.8500\n",
      "Epoch 7/100 - loss: 25.6634 - accuracy: 0.8875\n",
      "Epoch 8/100 - loss: 22.6249 - accuracy: 0.9125\n",
      "Epoch 9/100 - loss: 18.8274 - accuracy: 0.9625\n",
      "Epoch 10/100 - loss: 16.2478 - accuracy: 0.9625\n",
      "Epoch 11/100 - loss: 14.2297 - accuracy: 0.9750\n",
      "Epoch 12/100 - loss: 11.9867 - accuracy: 0.9625\n",
      "Epoch 13/100 - loss: 10.9258 - accuracy: 0.9750\n",
      "Epoch 14/100 - loss: 8.7607 - accuracy: 1.0000\n",
      "Epoch 15/100 - loss: 7.4806 - accuracy: 1.0000\n",
      "Epoch 16/100 - loss: 6.5973 - accuracy: 1.0000\n",
      "Epoch 17/100 - loss: 5.7002 - accuracy: 1.0000\n",
      "Epoch 18/100 - loss: 5.1014 - accuracy: 1.0000\n",
      "Epoch 19/100 - loss: 4.4617 - accuracy: 1.0000\n",
      "Epoch 20/100 - loss: 4.0667 - accuracy: 1.0000\n",
      "Epoch 21/100 - loss: 3.6315 - accuracy: 1.0000\n",
      "Epoch 22/100 - loss: 3.2937 - accuracy: 1.0000\n",
      "Epoch 23/100 - loss: 2.9641 - accuracy: 1.0000\n",
      "Epoch 24/100 - loss: 2.7273 - accuracy: 1.0000\n",
      "Epoch 25/100 - loss: 2.5333 - accuracy: 1.0000\n",
      "Epoch 26/100 - loss: 2.3381 - accuracy: 1.0000\n",
      "Epoch 27/100 - loss: 2.1509 - accuracy: 1.0000\n",
      "Epoch 28/100 - loss: 2.0016 - accuracy: 1.0000\n",
      "Epoch 29/100 - loss: 1.8472 - accuracy: 1.0000\n",
      "Epoch 30/100 - loss: 1.7312 - accuracy: 1.0000\n",
      "Epoch 31/100 - loss: 1.6268 - accuracy: 1.0000\n",
      "Epoch 32/100 - loss: 1.5221 - accuracy: 1.0000\n",
      "Epoch 33/100 - loss: 1.4216 - accuracy: 1.0000\n",
      "Epoch 34/100 - loss: 1.3512 - accuracy: 1.0000\n",
      "Epoch 35/100 - loss: 1.2580 - accuracy: 1.0000\n",
      "Epoch 36/100 - loss: 1.1912 - accuracy: 1.0000\n",
      "Epoch 37/100 - loss: 1.1283 - accuracy: 1.0000\n",
      "Epoch 38/100 - loss: 1.0681 - accuracy: 1.0000\n",
      "Epoch 39/100 - loss: 1.0227 - accuracy: 1.0000\n",
      "Epoch 40/100 - loss: 0.9692 - accuracy: 1.0000\n",
      "Epoch 41/100 - loss: 0.9308 - accuracy: 1.0000\n",
      "Epoch 42/100 - loss: 0.8820 - accuracy: 1.0000\n",
      "Epoch 43/100 - loss: 0.8418 - accuracy: 1.0000\n",
      "Epoch 44/100 - loss: 0.8094 - accuracy: 1.0000\n",
      "Epoch 45/100 - loss: 0.7749 - accuracy: 1.0000\n",
      "Epoch 46/100 - loss: 0.7466 - accuracy: 1.0000\n",
      "Epoch 47/100 - loss: 0.7190 - accuracy: 1.0000\n",
      "Epoch 48/100 - loss: 0.6864 - accuracy: 1.0000\n",
      "Epoch 49/100 - loss: 0.6618 - accuracy: 1.0000\n",
      "Epoch 50/100 - loss: 0.6378 - accuracy: 1.0000\n",
      "Epoch 51/100 - loss: 0.6139 - accuracy: 1.0000\n",
      "Epoch 52/100 - loss: 0.5908 - accuracy: 1.0000\n",
      "Epoch 53/100 - loss: 0.5765 - accuracy: 1.0000\n",
      "Epoch 54/100 - loss: 0.5550 - accuracy: 1.0000\n",
      "Epoch 55/100 - loss: 0.5356 - accuracy: 1.0000\n",
      "Epoch 56/100 - loss: 0.5200 - accuracy: 1.0000\n",
      "Epoch 57/100 - loss: 0.5029 - accuracy: 1.0000"
     ]
    },
    {
     "name": "stdout",
     "output_type": "stream",
     "text": [
      "\n",
      "Epoch 58/100 - loss: 0.4883 - accuracy: 1.0000\n",
      "Epoch 59/100 - loss: 0.4746 - accuracy: 1.0000\n",
      "Epoch 60/100 - loss: 0.4604 - accuracy: 1.0000\n",
      "Epoch 61/100 - loss: 0.4465 - accuracy: 1.0000\n",
      "Epoch 62/100 - loss: 0.4346 - accuracy: 1.0000\n",
      "Epoch 63/100 - loss: 0.4223 - accuracy: 1.0000\n",
      "Epoch 64/100 - loss: 0.4113 - accuracy: 1.0000\n",
      "Epoch 65/100 - loss: 0.4004 - accuracy: 1.0000\n",
      "Epoch 66/100 - loss: 0.3923 - accuracy: 1.0000\n",
      "Epoch 67/100 - loss: 0.3802 - accuracy: 1.0000\n",
      "Epoch 68/100 - loss: 0.3718 - accuracy: 1.0000\n",
      "Epoch 69/100 - loss: 0.3616 - accuracy: 1.0000\n",
      "Epoch 70/100 - loss: 0.3535 - accuracy: 1.0000\n",
      "Epoch 71/100 - loss: 0.3454 - accuracy: 1.0000\n",
      "Epoch 72/100 - loss: 0.3375 - accuracy: 1.0000\n",
      "Epoch 73/100 - loss: 0.3290 - accuracy: 1.0000\n",
      "Epoch 74/100 - loss: 0.3218 - accuracy: 1.0000\n",
      "Epoch 75/100 - loss: 0.3157 - accuracy: 1.0000\n",
      "Epoch 76/100 - loss: 0.3091 - accuracy: 1.0000\n",
      "Epoch 77/100 - loss: 0.3015 - accuracy: 1.0000\n",
      "Epoch 78/100 - loss: 0.2954 - accuracy: 1.0000\n",
      "Epoch 79/100 - loss: 0.2893 - accuracy: 1.0000\n",
      "Epoch 80/100 - loss: 0.2832 - accuracy: 1.0000\n",
      "Epoch 81/100 - loss: 0.2785 - accuracy: 1.0000\n",
      "Epoch 82/100 - loss: 0.2724 - accuracy: 1.0000\n",
      "Epoch 83/100 - loss: 0.2664 - accuracy: 1.0000\n",
      "Epoch 84/100 - loss: 0.2624 - accuracy: 1.0000\n",
      "Epoch 85/100 - loss: 0.2568 - accuracy: 1.0000\n",
      "Epoch 86/100 - loss: 0.2523 - accuracy: 1.0000\n",
      "Epoch 87/100 - loss: 0.2475 - accuracy: 1.0000\n",
      "Epoch 88/100 - loss: 0.2437 - accuracy: 1.0000\n",
      "Epoch 89/100 - loss: 0.2389 - accuracy: 1.0000\n",
      "Epoch 90/100 - loss: 0.2349 - accuracy: 1.0000\n",
      "Epoch 91/100 - loss: 0.2310 - accuracy: 1.0000\n",
      "Epoch 92/100 - loss: 0.2272 - accuracy: 1.0000\n",
      "Epoch 93/100 - loss: 0.2227 - accuracy: 1.0000\n",
      "Epoch 94/100 - loss: 0.2196 - accuracy: 1.0000\n",
      "Epoch 95/100 - loss: 0.2158 - accuracy: 1.0000\n",
      "Epoch 96/100 - loss: 0.2123 - accuracy: 1.0000\n",
      "Epoch 97/100 - loss: 0.2085 - accuracy: 1.0000\n",
      "Epoch 98/100 - loss: 0.2054 - accuracy: 1.0000\n",
      "Epoch 99/100 - loss: 0.2023 - accuracy: 1.0000\n",
      "Epoch 100/100 - loss: 0.1995 - accuracy: 1.0000\n"
     ]
    },
    {
     "data": {
      "text/plain": [
       "<si.neural_networks.neural_network.NeuralNetwork at 0x7f7df1cfe3d0>"
      ]
     },
     "execution_count": 116,
     "metadata": {},
     "output_type": "execute_result"
    }
   ],
   "source": [
    "#train\n",
    "n_net.fit(train_dataset)"
   ]
  },
  {
   "cell_type": "code",
   "execution_count": 117,
   "metadata": {},
   "outputs": [
    {
     "name": "stdout",
     "output_type": "stream",
     "text": [
      "[[0.13808235]\n",
      " [0.00212809]\n",
      " [0.71937891]]\n"
     ]
    }
   ],
   "source": [
    "#test\n",
    "out = n_net.predict(test_dataset)\n",
    "print(out[:3])"
   ]
  },
  {
   "cell_type": "code",
   "execution_count": 118,
   "metadata": {},
   "outputs": [
    {
     "name": "stdout",
     "output_type": "stream",
     "text": [
      "The score of the neural network is: 0.55.\n"
     ]
    }
   ],
   "source": [
    "score = n_net.score(test_dataset)\n",
    "print(f\"The score of the neural network is: {score}.\")"
   ]
  }
 ],
 "metadata": {
  "kernelspec": {
   "display_name": "base",
   "language": "python",
   "name": "python3"
  },
  "language_info": {
   "codemirror_mode": {
    "name": "ipython",
    "version": 3
   },
   "file_extension": ".py",
   "mimetype": "text/x-python",
   "name": "python",
   "nbconvert_exporter": "python",
   "pygments_lexer": "ipython3",
   "version": "3.9.12"
  }
 },
 "nbformat": 4,
 "nbformat_minor": 2
}
