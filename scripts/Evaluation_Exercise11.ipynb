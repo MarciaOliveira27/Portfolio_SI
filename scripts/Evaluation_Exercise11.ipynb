{
 "cells": [
  {
   "cell_type": "markdown",
   "metadata": {},
   "source": [
    "#### Exercise 11: Implementing the randomized_search_cv function"
   ]
  },
  {
   "cell_type": "markdown",
   "metadata": {},
   "source": [
    "Exercise 11.2 - Test the randomized_search_cv function."
   ]
  },
  {
   "cell_type": "markdown",
   "metadata": {},
   "source": [
    "1. Use the breast-bin.csv dataset."
   ]
  },
  {
   "cell_type": "code",
   "execution_count": 23,
   "metadata": {},
   "outputs": [],
   "source": [
    "import numpy as np\n",
    "from si.io.csv_file import read_csv"
   ]
  },
  {
   "cell_type": "code",
   "execution_count": 24,
   "metadata": {},
   "outputs": [],
   "source": [
    "filename = '/Users/marciaoliveira/Desktop/MSc Bioinformatics/2º ANO/SIB/PRÁTICA/Portfolio_SI/datasets/breast_bin/breast-bin.csv'\n",
    "df = read_csv(filename, sep = ',', features = True, label = True)"
   ]
  },
  {
   "cell_type": "markdown",
   "metadata": {},
   "source": [
    "2. Create a LogisticRegression model."
   ]
  },
  {
   "cell_type": "code",
   "execution_count": 25,
   "metadata": {},
   "outputs": [],
   "source": [
    "from si.models.logistic_regression import LogisticRegression"
   ]
  },
  {
   "cell_type": "code",
   "execution_count": 26,
   "metadata": {},
   "outputs": [],
   "source": [
    "lr_model = LogisticRegression()"
   ]
  },
  {
   "cell_type": "markdown",
   "metadata": {},
   "source": [
    "3. Perform a randomized search with specific hyperparameter distributions."
   ]
  },
  {
   "cell_type": "code",
   "execution_count": 27,
   "metadata": {},
   "outputs": [],
   "source": [
    "from si.model_selection.randomized_search import randomized_search_cv"
   ]
  },
  {
   "cell_type": "code",
   "execution_count": 28,
   "metadata": {},
   "outputs": [],
   "source": [
    "hyperparameter_grid = { 'l2_penalty': np.linspace(1, 10, 10), \n",
    "                       'alpha': np.linspace(0.001, 0.0001, 100),\n",
    "                       'max_iter': np.linspace(1000,2000,200)}"
   ]
  },
  {
   "cell_type": "markdown",
   "metadata": {},
   "source": [
    "4. Use n_iter=10 and cv=3 folds for the cross validation."
   ]
  },
  {
   "cell_type": "code",
   "execution_count": 29,
   "metadata": {},
   "outputs": [
    {
     "data": {
      "text/plain": [
       "{'hyperparameters': [{'l2_penalty': 9.0,\n",
       "   'alpha': 0.00039999999999999996,\n",
       "   'max_iter': 1226.1306532663316},\n",
       "  {'l2_penalty': 8.0,\n",
       "   'alpha': 0.00030909090909090914,\n",
       "   'max_iter': 1899.497487437186},\n",
       "  {'l2_penalty': 8.0,\n",
       "   'alpha': 0.0009727272727272728,\n",
       "   'max_iter': 1155.7788944723618},\n",
       "  {'l2_penalty': 2.0,\n",
       "   'alpha': 0.00018181818181818186,\n",
       "   'max_iter': 1763.819095477387},\n",
       "  {'l2_penalty': 10.0,\n",
       "   'alpha': 0.0008363636363636364,\n",
       "   'max_iter': 1859.2964824120604},\n",
       "  {'l2_penalty': 10.0,\n",
       "   'alpha': 0.0004909090909090909,\n",
       "   'max_iter': 1085.427135678392},\n",
       "  {'l2_penalty': 4.0, 'alpha': 0.0002090909090909091, 'max_iter': 2000.0},\n",
       "  {'l2_penalty': 9.0,\n",
       "   'alpha': 0.00012727272727272728,\n",
       "   'max_iter': 1115.5778894472362},\n",
       "  {'l2_penalty': 7.0,\n",
       "   'alpha': 0.0008454545454545455,\n",
       "   'max_iter': 1376.8844221105528},\n",
       "  {'l2_penalty': 9.0,\n",
       "   'alpha': 0.0009272727272727273,\n",
       "   'max_iter': 1422.1105527638192}],\n",
       " 'scores': [0.9669540229885057,\n",
       "  0.9669540229885057,\n",
       "  0.9669540229885057,\n",
       "  0.9669540229885057,\n",
       "  0.9669540229885057,\n",
       "  0.9669540229885057,\n",
       "  0.9669540229885057,\n",
       "  0.9683908045977011,\n",
       "  0.9669540229885056,\n",
       "  0.9669540229885056],\n",
       " 'best_hyperparameters': {'l2_penalty': 9.0,\n",
       "  'alpha': 0.00012727272727272728,\n",
       "  'max_iter': 1115.5778894472362},\n",
       " 'best_score': 0.9683908045977011}"
      ]
     },
     "execution_count": 29,
     "metadata": {},
     "output_type": "execute_result"
    }
   ],
   "source": [
    "results = randomized_search_cv(model=lr_model, dataset=df, hyperparameter_grid=hyperparameter_grid, cv=3, n_iter=10)\n",
    "\n",
    "results"
   ]
  },
  {
   "cell_type": "markdown",
   "metadata": {},
   "source": [
    "5. Which scores do you obtain? What are the best score and best hyperparameters?"
   ]
  },
  {
   "cell_type": "code",
   "execution_count": 30,
   "metadata": {},
   "outputs": [
    {
     "name": "stdout",
     "output_type": "stream",
     "text": [
      "Scores: [0.9669540229885057, 0.9669540229885057, 0.9669540229885057, 0.9669540229885057, 0.9669540229885057, 0.9669540229885057, 0.9669540229885057, 0.9683908045977011, 0.9669540229885056, 0.9669540229885056]\n"
     ]
    }
   ],
   "source": [
    "scores = results['scores']\n",
    "print(f\"Scores: {scores}\")"
   ]
  },
  {
   "cell_type": "code",
   "execution_count": 31,
   "metadata": {},
   "outputs": [
    {
     "name": "stdout",
     "output_type": "stream",
     "text": [
      "Best score: 0.9683908045977011\n"
     ]
    }
   ],
   "source": [
    "best_score = results['best_score']\n",
    "print(f\"Best score: {best_score}\")"
   ]
  },
  {
   "cell_type": "code",
   "execution_count": 32,
   "metadata": {},
   "outputs": [
    {
     "name": "stdout",
     "output_type": "stream",
     "text": [
      "Best hyperparameters: {'l2_penalty': 9.0, 'alpha': 0.00012727272727272728, 'max_iter': 1115.5778894472362}\n"
     ]
    }
   ],
   "source": [
    "best_hyperparameters = results['best_hyperparameters']\n",
    "print(f\"Best hyperparameters: {best_hyperparameters}\")"
   ]
  }
 ],
 "metadata": {
  "kernelspec": {
   "display_name": "base",
   "language": "python",
   "name": "python3"
  },
  "language_info": {
   "codemirror_mode": {
    "name": "ipython",
    "version": 3
   },
   "file_extension": ".py",
   "mimetype": "text/x-python",
   "name": "python",
   "nbconvert_exporter": "python",
   "pygments_lexer": "ipython3",
   "version": "3.9.12"
  }
 },
 "nbformat": 4,
 "nbformat_minor": 2
}
