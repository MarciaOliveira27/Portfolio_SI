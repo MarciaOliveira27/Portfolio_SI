{
 "cells": [
  {
   "cell_type": "markdown",
   "metadata": {},
   "source": [
    "#### Exercise 12: Dropout layer"
   ]
  },
  {
   "cell_type": "markdown",
   "metadata": {},
   "source": [
    "Exercise 12.2 - Test the layer with a random input and check if the output shows the desired behaviour."
   ]
  },
  {
   "cell_type": "code",
   "execution_count": 1,
   "metadata": {},
   "outputs": [],
   "source": [
    "import numpy as np\n",
    "from si.neural_networks.layers import Dropout"
   ]
  },
  {
   "cell_type": "code",
   "execution_count": 2,
   "metadata": {},
   "outputs": [],
   "source": [
    "dropout_layer = Dropout(probability=0.25)"
   ]
  },
  {
   "cell_type": "code",
   "execution_count": 3,
   "metadata": {},
   "outputs": [
    {
     "data": {
      "text/plain": [
       "array([[0.86058487, 0.57169311, 0.70875815, 0.73140897, 0.1863773 ,\n",
       "        0.12324988, 0.8448003 , 0.46285822, 0.63186035, 0.97658059],\n",
       "       [0.23982139, 0.79442594, 0.30044197, 0.03507985, 0.58362616,\n",
       "        0.49092342, 0.64028603, 0.80799461, 0.71308538, 0.91840116],\n",
       "       [0.41616927, 0.54514531, 0.73338037, 0.15561807, 0.54496376,\n",
       "        0.02902082, 0.14743355, 0.79908119, 0.51300575, 0.28716926],\n",
       "       [0.04934496, 0.4029832 , 0.73069881, 0.71365344, 0.60857612,\n",
       "        0.1127082 , 0.31299711, 0.62051918, 0.95748407, 0.70843123],\n",
       "       [0.22782601, 0.32386631, 0.39567722, 0.10970139, 0.38374796,\n",
       "        0.16174425, 0.93965068, 0.61769067, 0.26193399, 0.75872794]])"
      ]
     },
     "execution_count": 3,
     "metadata": {},
     "output_type": "execute_result"
    }
   ],
   "source": [
    "input = np.random.rand(5, 10)\n",
    "input"
   ]
  },
  {
   "cell_type": "code",
   "execution_count": 4,
   "metadata": {},
   "outputs": [
    {
     "data": {
      "text/plain": [
       "array([[0.        , 0.76225748, 0.94501087, 0.97521196, 0.24850306,\n",
       "        0.        , 1.1264004 , 0.61714429, 0.        , 0.        ],\n",
       "       [0.        , 1.05923459, 0.40058929, 0.        , 0.        ,\n",
       "        0.        , 0.8537147 , 0.        , 0.95078051, 0.        ],\n",
       "       [0.55489236, 0.72686041, 0.97784049, 0.20749077, 0.72661834,\n",
       "        0.03869442, 0.19657807, 1.06544158, 0.        , 0.        ],\n",
       "       [0.06579328, 0.53731093, 0.97426508, 0.95153792, 0.81143482,\n",
       "        0.        , 0.41732948, 0.8273589 , 1.27664542, 0.        ],\n",
       "       [0.30376801, 0.43182174, 0.52756963, 0.14626852, 0.        ,\n",
       "        0.        , 1.25286757, 0.82358756, 0.        , 1.01163725]])"
      ]
     },
     "execution_count": 4,
     "metadata": {},
     "output_type": "execute_result"
    }
   ],
   "source": [
    "output_layer = dropout_layer.forward_propagation(input, training=True)\n",
    "output_layer"
   ]
  },
  {
   "cell_type": "code",
   "execution_count": 5,
   "metadata": {},
   "outputs": [],
   "source": [
    "output_error = np.random.rand(5,10)"
   ]
  },
  {
   "cell_type": "code",
   "execution_count": 6,
   "metadata": {},
   "outputs": [
    {
     "name": "stdout",
     "output_type": "stream",
     "text": [
      "\n",
      "The input error of the layer:\n",
      " [[0.         0.92787772 0.70126376 0.79467082 0.50864677 0.\n",
      "  0.81430677 0.83342395 0.         0.        ]\n",
      " [0.         0.69537339 0.99659718 0.         0.         0.\n",
      "  0.17361713 0.         0.49237405 0.        ]\n",
      " [0.78970517 0.2237435  0.30442715 0.29354434 0.0694135  0.86244077\n",
      "  0.56508236 0.76627784 0.         0.        ]\n",
      " [0.03472602 0.51871236 0.66954306 0.78692665 0.14112868 0.\n",
      "  0.81264037 0.622521   0.75304687 0.        ]\n",
      " [0.66984042 0.60393578 0.74164003 0.7321796  0.         0.\n",
      "  0.83794782 0.29120415 0.         0.8442127 ]]\n"
     ]
    }
   ],
   "source": [
    "error_layer = dropout_layer.backward_propagation(output_error)\n",
    "print(\"\\nThe input error of the layer:\\n\", error_layer)"
   ]
  },
  {
   "cell_type": "code",
   "execution_count": 10,
   "metadata": {},
   "outputs": [
    {
     "data": {
      "text/plain": [
       "(5, 10)"
      ]
     },
     "execution_count": 10,
     "metadata": {},
     "output_type": "execute_result"
    }
   ],
   "source": [
    "dropout_layer.output_shape(input.shape)"
   ]
  },
  {
   "cell_type": "code",
   "execution_count": 12,
   "metadata": {},
   "outputs": [
    {
     "data": {
      "text/plain": [
       "0"
      ]
     },
     "execution_count": 12,
     "metadata": {},
     "output_type": "execute_result"
    }
   ],
   "source": [
    "dropout_layer.parameters()"
   ]
  }
 ],
 "metadata": {
  "kernelspec": {
   "display_name": "base",
   "language": "python",
   "name": "python3"
  },
  "language_info": {
   "codemirror_mode": {
    "name": "ipython",
    "version": 3
   },
   "file_extension": ".py",
   "mimetype": "text/x-python",
   "name": "python",
   "nbconvert_exporter": "python",
   "pygments_lexer": "ipython3",
   "version": "3.9.12"
  }
 },
 "nbformat": 4,
 "nbformat_minor": 2
}
