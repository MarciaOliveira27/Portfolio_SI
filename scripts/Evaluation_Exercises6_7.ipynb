{
 "cells": [
  {
   "cell_type": "markdown",
   "metadata": {},
   "source": [
    "#### Exercise 6: Implementing stratified splitting"
   ]
  },
  {
   "cell_type": "markdown",
   "metadata": {},
   "source": [
    "Exercise 6.2 - Test the \"stratified_train_test_split\" function with the iris dataset."
   ]
  },
  {
   "cell_type": "code",
   "execution_count": 1,
   "metadata": {},
   "outputs": [],
   "source": [
    "from si.io.csv_file import read_csv"
   ]
  },
  {
   "cell_type": "code",
   "execution_count": 2,
   "metadata": {},
   "outputs": [],
   "source": [
    "filename = '/Users/marciaoliveira/Desktop/MSc Bioinformatics/2º ANO/SIB/PRÁTICA/Portfolio_SI/datasets/iris/iris.csv'\n",
    "df = read_csv(filename, sep = ',', features = True, label = True)"
   ]
  },
  {
   "cell_type": "code",
   "execution_count": 3,
   "metadata": {},
   "outputs": [
    {
     "data": {
      "text/plain": [
       "(150, 4)"
      ]
     },
     "execution_count": 3,
     "metadata": {},
     "output_type": "execute_result"
    }
   ],
   "source": [
    "df.shape()"
   ]
  },
  {
   "cell_type": "code",
   "execution_count": 4,
   "metadata": {},
   "outputs": [],
   "source": [
    "from si.data.dataset import Dataset\n",
    "from si.model_selection.split import stratified_train_test_split"
   ]
  },
  {
   "cell_type": "code",
   "execution_count": 5,
   "metadata": {},
   "outputs": [],
   "source": [
    "train_dataset, test_dataset = stratified_train_test_split(df, test_size=0.2, random_state=42)"
   ]
  },
  {
   "cell_type": "code",
   "execution_count": 6,
   "metadata": {},
   "outputs": [
    {
     "name": "stdout",
     "output_type": "stream",
     "text": [
      "Train dataset:  (120, 4)\n"
     ]
    }
   ],
   "source": [
    "print('Train dataset: ', train_dataset.shape())"
   ]
  },
  {
   "cell_type": "code",
   "execution_count": 7,
   "metadata": {},
   "outputs": [
    {
     "name": "stdout",
     "output_type": "stream",
     "text": [
      "Test Dataset:  (30, 4)\n"
     ]
    }
   ],
   "source": [
    "print('Test Dataset: ', test_dataset.shape())"
   ]
  },
  {
   "cell_type": "markdown",
   "metadata": {},
   "source": [
    "#### Exercise 7: Implementing the KNNRegressor withRMSE"
   ]
  },
  {
   "cell_type": "markdown",
   "metadata": {},
   "source": [
    "Exercise 7.3 - Test the \"KNNRegressor\" class using the \"cpu.csv\" dataset (regression)."
   ]
  },
  {
   "cell_type": "code",
   "execution_count": 12,
   "metadata": {},
   "outputs": [],
   "source": [
    "from si.model_selection.split import train_test_split\n",
    "from si.models.knn_regressor import KNNRegressor"
   ]
  },
  {
   "cell_type": "code",
   "execution_count": 14,
   "metadata": {},
   "outputs": [
    {
     "data": {
      "text/plain": [
       "(209, 6)"
      ]
     },
     "execution_count": 14,
     "metadata": {},
     "output_type": "execute_result"
    }
   ],
   "source": [
    "filename = '/Users/marciaoliveira/Desktop/MSc Bioinformatics/2º ANO/SIB/PRÁTICA/Portfolio_SI/datasets/cpu/cpu.csv'\n",
    "df2 = read_csv(filename, sep = ',', features = True, label = True)\n",
    "df2.shape()"
   ]
  },
  {
   "cell_type": "code",
   "execution_count": 19,
   "metadata": {},
   "outputs": [],
   "source": [
    "dataset_train, dataset_test = train_test_split(df2, test_size=0.2, random_state=42)"
   ]
  },
  {
   "cell_type": "code",
   "execution_count": 27,
   "metadata": {},
   "outputs": [
    {
     "data": {
      "text/plain": [
       "array([[   56,  4000,  8000,     0,     1,     8],\n",
       "       [   40,  8000, 16000,    32,     8,    16],\n",
       "       [   26, 16000, 32000,    64,     8,    24],\n",
       "       ...,\n",
       "       [  140,  2000,  4000,     8,     1,    20],\n",
       "       [  160,  1000,  8000,    16,     1,    14],\n",
       "       [ 1100,   512,  1500,     0,     1,     1]])"
      ]
     },
     "execution_count": 27,
     "metadata": {},
     "output_type": "execute_result"
    }
   ],
   "source": [
    "dataset_train.X"
   ]
  },
  {
   "cell_type": "code",
   "execution_count": 29,
   "metadata": {},
   "outputs": [
    {
     "data": {
      "text/plain": [
       "array([[   25,  1310,  2620,   131,    12,    24],\n",
       "       [  200,  1000,  4000,     0,     1,     4],\n",
       "       [  330,  1000,  4000,     0,     3,     6],\n",
       "       [   30,  8000, 64000,    96,    12,   176],\n",
       "       [  800,   256,  8000,     0,     1,     4],\n",
       "       [   38,  8000, 32000,    64,     8,    24],\n",
       "       [  133,  1000,  8000,     9,     3,    12],\n",
       "       [  240,   512,  1000,     8,     1,     3],\n",
       "       [   23, 32000, 64000,   128,    32,    64],\n",
       "       [   50,  2000, 32000,    48,    26,    52],\n",
       "       [   50,  2000, 16000,    24,     6,    16],\n",
       "       [   52,  4000, 16000,    32,     4,    12],\n",
       "       [  125,  2000,  8000,     0,     2,    14],\n",
       "       [   50,  2000,  8000,     8,     3,     6],\n",
       "       [  200,   512, 16000,     0,     4,    32],\n",
       "       [  300,   768,  3000,     0,     6,    24],\n",
       "       [   38,  4000,  8000,    32,    16,    32],\n",
       "       [  143,  1000,  2000,     0,     5,    16],\n",
       "       [   38,  8000, 16000,    64,     4,     8],\n",
       "       [   57,  4000, 16000,     1,     6,    12],\n",
       "       [  300,   768, 12000,     6,     6,    24],\n",
       "       [  110,  1000, 12000,    16,     1,     2],\n",
       "       [   50,  4000, 16000,    64,     5,    10],\n",
       "       [  900,  1000,  4000,     4,     1,     2],\n",
       "       [  900,   512,  1000,     0,     1,     2],\n",
       "       [   92,  2000,  8000,     4,     1,     6],\n",
       "       [  320,   512,  2000,     4,     1,     3],\n",
       "       [   50,  2000,  4000,     0,     3,     6],\n",
       "       [  167,   524,  2000,     8,     4,    15],\n",
       "       [  200,  2000,  8000,    64,     1,     5],\n",
       "       [   26,  8000, 32000,    64,    12,    16],\n",
       "       [  105,  2000,  4000,     8,     3,    19],\n",
       "       [  115,   512,  6000,    16,     1,     6],\n",
       "       [  105,   256,  2000,     0,     3,    10],\n",
       "       [  600,   768,  2000,     0,     1,     1],\n",
       "       [  100,  1000,  8000,    24,     2,     6],\n",
       "       [  480,   512,  8000,    32,     0,     0],\n",
       "       [   26, 16000, 32000,    64,    16,    24],\n",
       "       [  300,  1000, 16000,     8,     2,   112],\n",
       "       [   56,  1000,  4000,     0,     1,     6],\n",
       "       [   50,  2000, 32000,   112,    52,   104]])"
      ]
     },
     "execution_count": 29,
     "metadata": {},
     "output_type": "execute_result"
    }
   ],
   "source": [
    "dataset_test.X"
   ]
  },
  {
   "cell_type": "code",
   "execution_count": 20,
   "metadata": {},
   "outputs": [],
   "source": [
    "model_knn_regressor = KNNRegressor(k=3)"
   ]
  },
  {
   "cell_type": "code",
   "execution_count": 21,
   "metadata": {},
   "outputs": [
    {
     "data": {
      "text/plain": [
       "<si.models.knn_regressor.KNNRegressor at 0x7feb7ad79d90>"
      ]
     },
     "execution_count": 21,
     "metadata": {},
     "output_type": "execute_result"
    }
   ],
   "source": [
    "model_knn_regressor.fit(dataset_train)"
   ]
  },
  {
   "cell_type": "code",
   "execution_count": 22,
   "metadata": {},
   "outputs": [
    {
     "name": "stdout",
     "output_type": "stream",
     "text": [
      "The rmse of the model is: 81.36259969252635\n"
     ]
    }
   ],
   "source": [
    "score = model_knn_regressor.score(dataset_test)\n",
    "print(f'The rmse of the model is: {score}')"
   ]
  }
 ],
 "metadata": {
  "kernelspec": {
   "display_name": "base",
   "language": "python",
   "name": "python3"
  },
  "language_info": {
   "codemirror_mode": {
    "name": "ipython",
    "version": 3
   },
   "file_extension": ".py",
   "mimetype": "text/x-python",
   "name": "python",
   "nbconvert_exporter": "python",
   "pygments_lexer": "ipython3",
   "version": "3.9.12"
  }
 },
 "nbformat": 4,
 "nbformat_minor": 2
}
