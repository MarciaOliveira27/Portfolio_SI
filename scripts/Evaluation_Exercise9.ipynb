{
 "cells": [
  {
   "cell_type": "markdown",
   "metadata": {},
   "source": [
    "#### Exercise 9: Implementing the RandomForestClassifier class"
   ]
  },
  {
   "cell_type": "markdown",
   "metadata": {},
   "source": [
    "Exercise 9.2 - Test the random forest class."
   ]
  },
  {
   "cell_type": "markdown",
   "metadata": {},
   "source": [
    "1. Use the iris.csv dataset."
   ]
  },
  {
   "cell_type": "code",
   "execution_count": 11,
   "metadata": {},
   "outputs": [],
   "source": [
    "from si.io.csv_file import read_csv"
   ]
  },
  {
   "cell_type": "code",
   "execution_count": 12,
   "metadata": {},
   "outputs": [],
   "source": [
    "filename = '/Users/marciaoliveira/Desktop/MSc Bioinformatics/2º ANO/SIB/PRÁTICA/Portfolio_SI/datasets/iris/iris.csv'\n",
    "df = read_csv(filename, sep = ',', features = True, label = True)"
   ]
  },
  {
   "cell_type": "markdown",
   "metadata": {},
   "source": [
    "2. Split the data into train and test sets."
   ]
  },
  {
   "cell_type": "code",
   "execution_count": 13,
   "metadata": {},
   "outputs": [],
   "source": [
    "from si.model_selection.split import train_test_split"
   ]
  },
  {
   "cell_type": "code",
   "execution_count": 14,
   "metadata": {},
   "outputs": [],
   "source": [
    "train_dataset, test_dataset = train_test_split(df, test_size=0.2, random_state=42)"
   ]
  },
  {
   "cell_type": "markdown",
   "metadata": {},
   "source": [
    "3. Create the RandomForestClassifier model."
   ]
  },
  {
   "cell_type": "code",
   "execution_count": 15,
   "metadata": {},
   "outputs": [],
   "source": [
    "from si.models.random_forest_classifier import RandomForestClassifier"
   ]
  },
  {
   "cell_type": "code",
   "execution_count": 16,
   "metadata": {},
   "outputs": [],
   "source": [
    "rf_classifier = RandomForestClassifier()"
   ]
  },
  {
   "cell_type": "code",
   "execution_count": 17,
   "metadata": {},
   "outputs": [
    {
     "data": {
      "text/plain": [
       "<si.models.random_forest_classifier.RandomForestClassifier at 0x7fded35150d0>"
      ]
     },
     "execution_count": 17,
     "metadata": {},
     "output_type": "execute_result"
    }
   ],
   "source": [
    "rf_classifier"
   ]
  },
  {
   "cell_type": "markdown",
   "metadata": {},
   "source": [
    "4. Train the model. What is the score of the model on the test set?"
   ]
  },
  {
   "cell_type": "code",
   "execution_count": 18,
   "metadata": {},
   "outputs": [
    {
     "data": {
      "text/plain": [
       "<si.models.random_forest_classifier.RandomForestClassifier at 0x7fded35150d0>"
      ]
     },
     "execution_count": 18,
     "metadata": {},
     "output_type": "execute_result"
    }
   ],
   "source": [
    "rf_classifier.fit(train_dataset)"
   ]
  },
  {
   "cell_type": "code",
   "execution_count": 19,
   "metadata": {},
   "outputs": [
    {
     "data": {
      "text/plain": [
       "array([['Iris-versicolor', 'Iris-versicolor', 'Iris-virginica', ...,\n",
       "        'Iris-virginica', 'Iris-setosa', 'Iris-setosa'],\n",
       "       ['Iris-versicolor', 'Iris-setosa', 'Iris-virginica', ...,\n",
       "        'Iris-virginica', 'Iris-setosa', 'Iris-setosa'],\n",
       "       ['Iris-versicolor', 'Iris-setosa', 'Iris-virginica', ...,\n",
       "        'Iris-virginica', 'Iris-setosa', 'Iris-setosa'],\n",
       "       ...,\n",
       "       ['Iris-versicolor', 'Iris-setosa', 'Iris-virginica', ...,\n",
       "        'Iris-virginica', 'Iris-setosa', 'Iris-setosa'],\n",
       "       ['Iris-versicolor', 'Iris-setosa', 'Iris-virginica', ...,\n",
       "        'Iris-versicolor', 'Iris-setosa', 'Iris-setosa'],\n",
       "       ['Iris-versicolor', 'Iris-setosa', 'Iris-virginica', ...,\n",
       "        'Iris-virginica', 'Iris-setosa', 'Iris-setosa']], dtype=object)"
      ]
     },
     "execution_count": 19,
     "metadata": {},
     "output_type": "execute_result"
    }
   ],
   "source": [
    "rf_classifier.predict(test_dataset)"
   ]
  },
  {
   "cell_type": "code",
   "execution_count": 20,
   "metadata": {},
   "outputs": [
    {
     "name": "stdout",
     "output_type": "stream",
     "text": [
      "Score: 90.96666666666667\n"
     ]
    }
   ],
   "source": [
    "score = rf_classifier.score(test_dataset)\n",
    "print(f\"Score: {score}\")\n"
   ]
  }
 ],
 "metadata": {
  "kernelspec": {
   "display_name": "base",
   "language": "python",
   "name": "python3"
  },
  "language_info": {
   "codemirror_mode": {
    "name": "ipython",
    "version": 3
   },
   "file_extension": ".py",
   "mimetype": "text/x-python",
   "name": "python",
   "nbconvert_exporter": "python",
   "pygments_lexer": "ipython3",
   "version": "3.9.12"
  }
 },
 "nbformat": 4,
 "nbformat_minor": 2
}
